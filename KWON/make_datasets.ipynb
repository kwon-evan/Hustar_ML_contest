{
 "cells": [
  {
   "cell_type": "markdown",
   "id": "f1f5e8c1",
   "metadata": {
    "pycharm": {
     "name": "#%% md\n"
    }
   },
   "source": [
    "#### make datasets"
   ]
  },
  {
   "cell_type": "code",
   "execution_count": 6,
   "id": "b7a3d399-1e6e-46e0-8594-f7750548c5eb",
   "metadata": {
    "pycharm": {
     "name": "#%%\n"
    }
   },
   "outputs": [],
   "source": [
    "from transformers import AutoTokenizer\n",
    "from datasets import load_dataset, load_metric"
   ]
  },
  {
   "cell_type": "code",
   "execution_count": 7,
   "id": "f896608f-52c9-438d-974f-79026ce23268",
   "metadata": {
    "pycharm": {
     "name": "#%%\n"
    }
   },
   "outputs": [
    {
     "name": "stderr",
     "output_type": "stream",
     "text": [
      "Using custom data configuration default-9107b79668af0ad1\n",
      "Reusing dataset csv (/home/piai/.cache/huggingface/datasets/csv/default-9107b79668af0ad1/0.0.0/433e0ccc46f9880962cc2b12065189766fbb2bee57a221866138fb9203c83519)\n"
     ]
    },
    {
     "data": {
      "text/plain": "  0%|          | 0/1 [00:00<?, ?it/s]",
      "application/vnd.jupyter.widget-view+json": {
       "version_major": 2,
       "version_minor": 0,
       "model_id": "66bcbc821daa43a3aae657000b63f9a4"
      }
     },
     "metadata": {},
     "output_type": "display_data"
    },
    {
     "name": "stderr",
     "output_type": "stream",
     "text": [
      "Using custom data configuration default-17a36eab66b2c9d1\n",
      "Reusing dataset csv (/home/piai/.cache/huggingface/datasets/csv/default-17a36eab66b2c9d1/0.0.0/433e0ccc46f9880962cc2b12065189766fbb2bee57a221866138fb9203c83519)\n"
     ]
    },
    {
     "data": {
      "text/plain": "  0%|          | 0/1 [00:00<?, ?it/s]",
      "application/vnd.jupyter.widget-view+json": {
       "version_major": 2,
       "version_minor": 0,
       "model_id": "d6894bc056c046bd815acdaecdf706a3"
      }
     },
     "metadata": {},
     "output_type": "display_data"
    }
   ],
   "source": [
    "MODEL = \"microsoft/graphcodebert-base\"\n",
    "TRAIN_LV1_INPUT = \"./data/train_data_lv1.csv\"\n",
    "VALID_LV1_INPUT = \"./data/valid_data_lv1.csv\"\n",
    "MAX_LEN = 512\n",
    "\n",
    "train_dataset_lv1 = load_dataset(\"csv\", data_files=TRAIN_LV1_INPUT)['train']\n",
    "valid_dataset_lv1 = load_dataset(\"csv\", data_files=VALID_LV1_INPUT)[\"train\"]\n",
    "tokenizer = AutoTokenizer.from_pretrained(MODEL)\n",
    "tokenizer.truncation_side='left'"
   ]
  },
  {
   "cell_type": "code",
   "execution_count": 8,
   "outputs": [],
   "source": [
    "import re\n",
    "from collections import deque\n",
    "\n",
    "\n",
    "def preprocess_script(code):\n",
    "    new_code = deque()\n",
    "\n",
    "    for line in code.split('\\n'):\n",
    "        if line.lstrip().startswith('#'): # 주석으로 시작되는 행 skip\n",
    "            continue\n",
    "        line = line.rstrip()\n",
    "        if '#' in line:\n",
    "            line = line[:line.index('#')] # 주석 전까지 코드만 저장\n",
    "        line = line.replace('\\n','')      # 개행 문자를 모두 삭제함\n",
    "        line = line.replace('    ','\\t')  # 공백 4칸을 tab으로 변환\n",
    "\n",
    "        if line == '': # 전처리 후 빈 라인은 skip\n",
    "            continue\n",
    "\n",
    "        new_code.append(line)\n",
    "\n",
    "    new_code = '\\n'.join(new_code)\n",
    "    new_code = re.sub('(\"\"\"[\\w\\W]*?\"\"\")', '<str>', new_code)\n",
    "    new_code = re.sub(\"('''[\\w\\W]*?''')\", '<str>', new_code)\n",
    "    new_code = re.sub('/^(file|gopher|news|nntp|telnet|http?|https?|ftps?|sftp):\\/\\/([a-z0-9-]+\\.)+[a-z0-9]{2,4}.*$/',\n",
    "                      '<url>',\n",
    "                      new_code)\n",
    "\n",
    "    return new_code"
   ],
   "metadata": {
    "collapsed": false,
    "pycharm": {
     "name": "#%%\n"
    }
   }
  },
  {
   "cell_type": "code",
   "execution_count": 9,
   "outputs": [
    {
     "data": {
      "text/plain": "  0%|          | 0/300000 [00:00<?, ?ex/s]",
      "application/vnd.jupyter.widget-view+json": {
       "version_major": 2,
       "version_minor": 0,
       "model_id": "9f062a51ba084e4ea0ed0219fea76533"
      }
     },
     "metadata": {},
     "output_type": "display_data"
    },
    {
     "data": {
      "text/plain": "  0%|          | 0/30000 [00:00<?, ?ex/s]",
      "application/vnd.jupyter.widget-view+json": {
       "version_major": 2,
       "version_minor": 0,
       "model_id": "4b1ef2212906407ba85220d3d283d175"
      }
     },
     "metadata": {},
     "output_type": "display_data"
    }
   ],
   "source": [
    "def example_fn(examples):\n",
    "    outputs = tokenizer(\n",
    "        preprocess_script(examples['code1']),\n",
    "        preprocess_script(examples['code2']),\n",
    "        padding=True, max_length=MAX_LEN,truncation=True,)\n",
    "    if 'similar' in examples:\n",
    "        outputs[\"labels\"] = examples[\"similar\"]\n",
    "    return outputs\n",
    "\n",
    "train_dataset_lv1 = train_dataset_lv1.map(example_fn, remove_columns=['code1', 'code2', 'similar'])\n",
    "valid_dataset_lv1 = valid_dataset_lv1.map(example_fn, remove_columns=['code1', 'code2', 'similar'])"
   ],
   "metadata": {
    "collapsed": false,
    "pycharm": {
     "name": "#%%\n"
    }
   }
  },
  {
   "cell_type": "code",
   "execution_count": 10,
   "id": "6bb70ec1",
   "metadata": {
    "collapsed": false,
    "jupyter": {
     "outputs_hidden": false
    },
    "pycharm": {
     "name": "#%%\n"
    }
   },
   "outputs": [],
   "source": [
    "train_dataset_lv1.save_to_disk('./data/train_dataset_lv1')\n",
    "valid_dataset_lv1.save_to_disk('./data/valid_dataset_lv1')"
   ]
  },
  {
   "cell_type": "code",
   "execution_count": 10,
   "id": "da9cf610",
   "metadata": {
    "collapsed": false,
    "jupyter": {
     "outputs_hidden": false
    },
    "pycharm": {
     "name": "#%%\n"
    }
   },
   "outputs": [],
   "source": []
  }
 ],
 "metadata": {
  "kernelspec": {
   "display_name": "Python 3 (ipykernel)",
   "language": "python",
   "name": "python3"
  },
  "language_info": {
   "codemirror_mode": {
    "name": "ipython",
    "version": 3
   },
   "file_extension": ".py",
   "mimetype": "text/x-python",
   "name": "python",
   "nbconvert_exporter": "python",
   "pygments_lexer": "ipython3",
   "version": "3.7.12"
  }
 },
 "nbformat": 4,
 "nbformat_minor": 5
}