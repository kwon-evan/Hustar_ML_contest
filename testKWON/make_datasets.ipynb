{
 "cells": [
  {
   "cell_type": "markdown",
   "source": [
    "#### make datasets"
   ],
   "metadata": {
    "collapsed": false,
    "pycharm": {
     "name": "#%% md\n"
    }
   }
  },
  {
   "cell_type": "code",
   "execution_count": 1,
   "id": "b7a3d399-1e6e-46e0-8594-f7750548c5eb",
   "metadata": {
    "pycharm": {
     "name": "#%%\n"
    }
   },
   "outputs": [],
   "source": [
    "from transformers import AutoTokenizer\n",
    "from datasets import load_dataset, load_metric"
   ]
  },
  {
   "cell_type": "code",
   "execution_count": 2,
   "id": "f896608f-52c9-438d-974f-79026ce23268",
   "metadata": {
    "pycharm": {
     "name": "#%%\n"
    }
   },
   "outputs": [
    {
     "name": "stderr",
     "output_type": "stream",
     "text": [
      "Using custom data configuration default-9107b79668af0ad1\n",
      "Reusing dataset csv (/home/piai/.cache/huggingface/datasets/csv/default-9107b79668af0ad1/0.0.0/433e0ccc46f9880962cc2b12065189766fbb2bee57a221866138fb9203c83519)\n"
     ]
    },
    {
     "data": {
      "text/plain": "  0%|          | 0/1 [00:00<?, ?it/s]",
      "application/vnd.jupyter.widget-view+json": {
       "version_major": 2,
       "version_minor": 0,
       "model_id": "784e1cee71a94668a44087ed35fb4229"
      }
     },
     "metadata": {},
     "output_type": "display_data"
    },
    {
     "name": "stderr",
     "output_type": "stream",
     "text": [
      "Using custom data configuration default-b804112fdc17747b\n",
      "Reusing dataset csv (/home/piai/.cache/huggingface/datasets/csv/default-b804112fdc17747b/0.0.0/433e0ccc46f9880962cc2b12065189766fbb2bee57a221866138fb9203c83519)\n"
     ]
    },
    {
     "data": {
      "text/plain": "  0%|          | 0/1 [00:00<?, ?it/s]",
      "application/vnd.jupyter.widget-view+json": {
       "version_major": 2,
       "version_minor": 0,
       "model_id": "b70ff656885e41f4a3c37cd97545bd47"
      }
     },
     "metadata": {},
     "output_type": "display_data"
    },
    {
     "name": "stderr",
     "output_type": "stream",
     "text": [
      "Using custom data configuration default-a069df529ed2441c\n",
      "Reusing dataset csv (/home/piai/.cache/huggingface/datasets/csv/default-a069df529ed2441c/0.0.0/433e0ccc46f9880962cc2b12065189766fbb2bee57a221866138fb9203c83519)\n"
     ]
    },
    {
     "data": {
      "text/plain": "  0%|          | 0/1 [00:00<?, ?it/s]",
      "application/vnd.jupyter.widget-view+json": {
       "version_major": 2,
       "version_minor": 0,
       "model_id": "fbda788323664891a52dead7999eda78"
      }
     },
     "metadata": {},
     "output_type": "display_data"
    },
    {
     "name": "stderr",
     "output_type": "stream",
     "text": [
      "Using custom data configuration default-17a36eab66b2c9d1\n",
      "Reusing dataset csv (/home/piai/.cache/huggingface/datasets/csv/default-17a36eab66b2c9d1/0.0.0/433e0ccc46f9880962cc2b12065189766fbb2bee57a221866138fb9203c83519)\n"
     ]
    },
    {
     "data": {
      "text/plain": "  0%|          | 0/1 [00:00<?, ?it/s]",
      "application/vnd.jupyter.widget-view+json": {
       "version_major": 2,
       "version_minor": 0,
       "model_id": "4c6e110c722b4a6e8368fc888795d8dd"
      }
     },
     "metadata": {},
     "output_type": "display_data"
    },
    {
     "name": "stderr",
     "output_type": "stream",
     "text": [
      "Using custom data configuration default-0b6300a0d2da09ac\n",
      "Reusing dataset csv (/home/piai/.cache/huggingface/datasets/csv/default-0b6300a0d2da09ac/0.0.0/433e0ccc46f9880962cc2b12065189766fbb2bee57a221866138fb9203c83519)\n"
     ]
    },
    {
     "data": {
      "text/plain": "  0%|          | 0/1 [00:00<?, ?it/s]",
      "application/vnd.jupyter.widget-view+json": {
       "version_major": 2,
       "version_minor": 0,
       "model_id": "72dee81c20df49a4b44ef49a99029539"
      }
     },
     "metadata": {},
     "output_type": "display_data"
    },
    {
     "name": "stderr",
     "output_type": "stream",
     "text": [
      "Using custom data configuration default-1e755c261a69e996\n",
      "Reusing dataset csv (/home/piai/.cache/huggingface/datasets/csv/default-1e755c261a69e996/0.0.0/433e0ccc46f9880962cc2b12065189766fbb2bee57a221866138fb9203c83519)\n"
     ]
    },
    {
     "data": {
      "text/plain": "  0%|          | 0/1 [00:00<?, ?it/s]",
      "application/vnd.jupyter.widget-view+json": {
       "version_major": 2,
       "version_minor": 0,
       "model_id": "3d03a501a72f4c08930d5291dbd8a242"
      }
     },
     "metadata": {},
     "output_type": "display_data"
    },
    {
     "data": {
      "text/plain": "  0%|          | 0/300000 [00:00<?, ?ex/s]",
      "application/vnd.jupyter.widget-view+json": {
       "version_major": 2,
       "version_minor": 0,
       "model_id": "9f8ccdb8694a4f85b01d37cfcdf85f8f"
      }
     },
     "metadata": {},
     "output_type": "display_data"
    },
    {
     "data": {
      "text/plain": "  0%|          | 0/90000 [00:00<?, ?ex/s]",
      "application/vnd.jupyter.widget-view+json": {
       "version_major": 2,
       "version_minor": 0,
       "model_id": "6e6d48395a5a4dda8d183c518e2c0af3"
      }
     },
     "metadata": {},
     "output_type": "display_data"
    },
    {
     "data": {
      "text/plain": "  0%|          | 0/90000 [00:00<?, ?ex/s]",
      "application/vnd.jupyter.widget-view+json": {
       "version_major": 2,
       "version_minor": 0,
       "model_id": "a5ca30c554ef49b4b4a2a07ede5af4a2"
      }
     },
     "metadata": {},
     "output_type": "display_data"
    },
    {
     "data": {
      "text/plain": "  0%|          | 0/30000 [00:00<?, ?ex/s]",
      "application/vnd.jupyter.widget-view+json": {
       "version_major": 2,
       "version_minor": 0,
       "model_id": "3a77ac583b1e47ea8200b0f2706bdd85"
      }
     },
     "metadata": {},
     "output_type": "display_data"
    },
    {
     "data": {
      "text/plain": "  0%|          | 0/9000 [00:00<?, ?ex/s]",
      "application/vnd.jupyter.widget-view+json": {
       "version_major": 2,
       "version_minor": 0,
       "model_id": "2cf19bc8fe134ed9a548a9af371e6cc4"
      }
     },
     "metadata": {},
     "output_type": "display_data"
    },
    {
     "data": {
      "text/plain": "  0%|          | 0/9000 [00:00<?, ?ex/s]",
      "application/vnd.jupyter.widget-view+json": {
       "version_major": 2,
       "version_minor": 0,
       "model_id": "3771b1948974448eb46a803bc1d4a5f7"
      }
     },
     "metadata": {},
     "output_type": "display_data"
    }
   ],
   "source": [
    "MODEL = \"microsoft/graphcodebert-base\"\n",
    "TRAIN_LV1_INPUT = \"./data/train_data_lv1.csv\"\n",
    "TRAIN_LV2_INPUT = \"./data/train_data_lv2.csv\"\n",
    "TRAIN_LV3_INPUT = \"./data/train_data_lv3.csv\"\n",
    "VALID_LV1_INPUT = \"./data/valid_data_lv1.csv\"\n",
    "VALID_LV2_INPUT = \"./data/valid_data_lv2.csv\"\n",
    "VALID_LV3_INPUT = \"./data/valid_data_lv3.csv\"\n",
    "MAX_LEN = 512\n",
    "\n",
    "train_dataset_lv1 = load_dataset(\"csv\", data_files=TRAIN_LV1_INPUT)['train']\n",
    "train_dataset_lv2 = load_dataset(\"csv\", data_files=TRAIN_LV2_INPUT)['train']\n",
    "train_dataset_lv3 = load_dataset(\"csv\", data_files=TRAIN_LV3_INPUT)['train']\n",
    "valid_dataset_lv1 = load_dataset(\"csv\", data_files=VALID_LV1_INPUT)[\"train\"]\n",
    "valid_dataset_lv2 = load_dataset(\"csv\", data_files=VALID_LV2_INPUT)[\"train\"]\n",
    "valid_dataset_lv3 = load_dataset(\"csv\", data_files=VALID_LV3_INPUT)[\"train\"]\n",
    "tokenizer = AutoTokenizer.from_pretrained(MODEL)\n",
    "tokenizer.truncation_side='left'\n",
    "\n",
    "def example_fn(examples):\n",
    "    outputs = tokenizer(examples['code1'], examples['code2'], padding=True, max_length=MAX_LEN,truncation=True,)\n",
    "    if 'similar' in examples:\n",
    "        outputs[\"labels\"] = examples[\"similar\"]\n",
    "    return outputs\n",
    "\n",
    "train_dataset_lv1 = train_dataset_lv1.map(example_fn, remove_columns=['code1', 'code2', 'similar'])\n",
    "train_dataset_lv2 = train_dataset_lv2.map(example_fn, remove_columns=['code1', 'code2', 'similar'])\n",
    "train_dataset_lv3 = train_dataset_lv3.map(example_fn, remove_columns=['code1', 'code2', 'similar'])\n",
    "\n",
    "valid_dataset_lv1 = valid_dataset_lv1.map(example_fn, remove_columns=['code1', 'code2', 'similar'])\n",
    "valid_dataset_lv2 = valid_dataset_lv2.map(example_fn, remove_columns=['code1', 'code2', 'similar'])\n",
    "valid_dataset_lv3 = valid_dataset_lv3.map(example_fn, remove_columns=['code1', 'code2', 'similar'])"
   ]
  },
  {
   "cell_type": "code",
   "execution_count": 3,
   "outputs": [],
   "source": [
    "train_dataset_lv1.save_to_disk('./data/train_dataset_lv1')\n",
    "train_dataset_lv2.save_to_disk('./data/train_dataset_lv2')\n",
    "train_dataset_lv3.save_to_disk('./data/train_dataset_lv3')\n",
    "valid_dataset_lv1.save_to_disk('./data/valid_dataset_lv1')\n",
    "valid_dataset_lv2.save_to_disk('./data/valid_dataset_lv2')\n",
    "valid_dataset_lv3.save_to_disk('./data/valid_dataset_lv3')"
   ],
   "metadata": {
    "collapsed": false,
    "pycharm": {
     "name": "#%%\n"
    }
   }
  },
  {
   "cell_type": "code",
   "execution_count": 3,
   "outputs": [],
   "source": [],
   "metadata": {
    "collapsed": false,
    "pycharm": {
     "name": "#%%\n"
    }
   }
  }
 ],
 "metadata": {
  "kernelspec": {
   "display_name": "Python 3 (ipykernel)",
   "language": "python",
   "name": "python3"
  },
  "language_info": {
   "codemirror_mode": {
    "name": "ipython",
    "version": 3
   },
   "file_extension": ".py",
   "mimetype": "text/x-python",
   "name": "python",
   "nbconvert_exporter": "python",
   "pygments_lexer": "ipython3",
   "version": "3.7.13"
  }
 },
 "nbformat": 4,
 "nbformat_minor": 5
}