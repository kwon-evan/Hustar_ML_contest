{
 "cells": [
  {
   "cell_type": "code",
   "execution_count": 19,
   "id": "33907e79-adc5-4e04-9ab4-14abbe2b8a88",
   "metadata": {},
   "outputs": [],
   "source": [
    "import PIL\n",
    "import numpy as np\n",
    "import sys\n",
    "\n",
    "from torchvision.transforms.functional import to_pil_image"
   ]
  },
  {
   "cell_type": "code",
   "execution_count": 24,
   "id": "c2911679-8da8-44a9-91ab-830c904dee89",
   "metadata": {},
   "outputs": [],
   "source": [
    "container_truck_image = PIL.Image.open(\"./data/train/labels/container_truck_2mnHlYWkqY.png\")\n",
    "# pil_image.show()\n",
    "\n",
    "container_truck_image_array = np.array(container_truck_image)"
   ]
  },
  {
   "cell_type": "code",
   "execution_count": 25,
   "id": "ef08fbb9-13ff-4468-848b-6491476faae4",
   "metadata": {},
   "outputs": [
    {
     "data": {
      "text/plain": [
       "(336, 336)"
      ]
     },
     "execution_count": 25,
     "metadata": {},
     "output_type": "execute_result"
    }
   ],
   "source": [
    "container_truck_image_array.shape"
   ]
  },
  {
   "cell_type": "code",
   "execution_count": 40,
   "id": "ffc72937-651a-496f-8821-0649c532f63f",
   "metadata": {},
   "outputs": [
    {
     "data": {
      "text/plain": [
       "1"
      ]
     },
     "execution_count": 40,
     "metadata": {},
     "output_type": "execute_result"
    }
   ],
   "source": [
    "# np.set_printoptions(threshold=sys.maxsize)\n",
    "# print(pil_image_array)\n",
    "container_truck_image_array.max()"
   ]
  },
  {
   "cell_type": "code",
   "execution_count": 28,
   "id": "859ebad7-1d33-4c7a-b9ba-73db3d44538c",
   "metadata": {},
   "outputs": [],
   "source": [
    "forklift_image = PIL.Image.open(\"./data/train/labels/forklift_2iSq2K9t0h.png\")\n",
    "forklift_image_array = np.array(forklift_image)"
   ]
  },
  {
   "cell_type": "code",
   "execution_count": 29,
   "id": "c1511666-5b5d-4c8c-8e9e-ed7e45d2a98d",
   "metadata": {},
   "outputs": [
    {
     "data": {
      "text/plain": [
       "(2160, 3066)"
      ]
     },
     "execution_count": 29,
     "metadata": {},
     "output_type": "execute_result"
    }
   ],
   "source": [
    "forklift_image_array.shape"
   ]
  },
  {
   "cell_type": "code",
   "execution_count": 30,
   "id": "b06f4137-f4c7-4cff-887f-0bc454cfd8ba",
   "metadata": {},
   "outputs": [
    {
     "data": {
      "text/plain": [
       "2"
      ]
     },
     "execution_count": 30,
     "metadata": {},
     "output_type": "execute_result"
    }
   ],
   "source": [
    "forklift_image_array.max()"
   ]
  },
  {
   "cell_type": "code",
   "execution_count": 31,
   "id": "3bd463d6-29da-414d-8aa0-4816baeba45c",
   "metadata": {},
   "outputs": [],
   "source": [
    "reach_stacker_image = PIL.Image.open(\"./data/train/labels/reach_stacker_8HwyULhSGq.png\")\n",
    "reach_stacker_image_array = np.array(reach_stacker_image)"
   ]
  },
  {
   "cell_type": "code",
   "execution_count": 32,
   "id": "5c467b20-8420-4585-a966-1bfb7ace531c",
   "metadata": {},
   "outputs": [
    {
     "data": {
      "text/plain": [
       "(1080, 1332)"
      ]
     },
     "execution_count": 32,
     "metadata": {},
     "output_type": "execute_result"
    }
   ],
   "source": [
    "reach_stacker_image_array.shape"
   ]
  },
  {
   "cell_type": "code",
   "execution_count": 33,
   "id": "11ee79e4-89b1-44ba-a489-09fb0d319405",
   "metadata": {},
   "outputs": [
    {
     "data": {
      "text/plain": [
       "3"
      ]
     },
     "execution_count": 33,
     "metadata": {},
     "output_type": "execute_result"
    }
   ],
   "source": [
    "reach_stacker_image_array.max()"
   ]
  },
  {
   "cell_type": "code",
   "execution_count": 34,
   "id": "7f0e816e-8260-4947-8bf0-983f6ff8eb5b",
   "metadata": {},
   "outputs": [],
   "source": [
    "ship_image = PIL.Image.open(\"./data/train/labels/ship_01fK8VRkR8.png\")\n",
    "ship_image_array = np.array(ship_image)"
   ]
  },
  {
   "cell_type": "code",
   "execution_count": 35,
   "id": "79698f2b-2595-4164-994a-5a180f9f2214",
   "metadata": {},
   "outputs": [
    {
     "data": {
      "text/plain": [
       "(456, 456)"
      ]
     },
     "execution_count": 35,
     "metadata": {},
     "output_type": "execute_result"
    }
   ],
   "source": [
    "ship_image_array.shape"
   ]
  },
  {
   "cell_type": "code",
   "execution_count": 42,
   "id": "fe01c207-6065-4106-8dd4-fb063ca012a9",
   "metadata": {},
   "outputs": [
    {
     "data": {
      "text/plain": [
       "4"
      ]
     },
     "execution_count": 42,
     "metadata": {},
     "output_type": "execute_result"
    }
   ],
   "source": [
    "ship_image_array.max()"
   ]
  },
  {
   "cell_type": "code",
   "execution_count": null,
   "id": "0cc8d051-3ea9-4f39-af0b-0917fea8a4a7",
   "metadata": {},
   "outputs": [],
   "source": []
  }
 ],
 "metadata": {
  "kernelspec": {
   "display_name": "Python 3 (ipykernel)",
   "language": "python",
   "name": "python3"
  },
  "language_info": {
   "codemirror_mode": {
    "name": "ipython",
    "version": 3
   },
   "file_extension": ".py",
   "mimetype": "text/x-python",
   "name": "python",
   "nbconvert_exporter": "python",
   "pygments_lexer": "ipython3",
   "version": "3.7.13"
  }
 },
 "nbformat": 4,
 "nbformat_minor": 5
}
