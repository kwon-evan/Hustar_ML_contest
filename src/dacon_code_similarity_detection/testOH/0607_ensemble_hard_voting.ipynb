{
 "cells": [
  {
   "cell_type": "markdown",
   "id": "280e40f7-87ac-4e54-b49b-1c0392b3ff30",
   "metadata": {},
   "source": [
    "#### 주의 : submissions 갯수는 홀수개로 맞출것 (짝수개면 반반나왔을때 애매함)"
   ]
  },
  {
   "cell_type": "code",
   "execution_count": 2,
   "id": "8f468c2c-66b1-46ab-a793-2f185defe703",
   "metadata": {},
   "outputs": [],
   "source": [
    "import pandas as pd\n",
    "import numpy as np"
   ]
  },
  {
   "cell_type": "code",
   "execution_count": 3,
   "id": "27beeb07-8fb2-41ce-99bf-a576a38c3b61",
   "metadata": {},
   "outputs": [],
   "source": [
    "result_list = list()\n",
    "\n",
    "result_list.append(pd.read_csv(\"./submissions/for_ensemble/bc_submission_06.csv\"))\n",
    "result_list.append(pd.read_csv(\"./submissions/for_ensemble/hj_submission_lv1-bluecow.csv\"))\n",
    "result_list.append(pd.read_csv(\"./submissions/for_ensemble/hj_submission_lv1.csv\"))\n",
    "result_list.append(pd.read_csv(\"./submissions/for_ensemble/mh_submission_SoftVoting.csv\"))\n",
    "result_list.append(pd.read_csv(\"./submissions/for_ensemble/sh_submission_03.csv\"))\n",
    "result_list.append(pd.read_csv(\"./submissions/for_ensemble/sh_submission_07.csv\"))\n",
    "result_list.append(pd.read_csv(\"./submissions/for_ensemble/sh_submission_custommodel.csv\"))\n",
    "\n",
    "hard_voting_result = pd.read_csv(\"./data/sample_submission.csv\")"
   ]
  },
  {
   "cell_type": "code",
   "execution_count": 7,
   "id": "ca3d4e2d-be1a-4a31-9cf5-c59ddc8dc8ac",
   "metadata": {},
   "outputs": [],
   "source": [
    "def sum_of_similar(result_list, hard_voting_result):\n",
    "    temp = [0 for _ in range(len(hard_voting_result[\"similar\"]))]\n",
    "    for result in result_list:\n",
    "        for col in result.columns:\n",
    "            if \"similar\" in col:\n",
    "                for idx, element in enumerate(result[col]):\n",
    "                    temp[idx] += element\n",
    "    return temp\n",
    "\n",
    "hard_voting_result[\"similar\"] = sum_of_similar(result_list, hard_voting_result)\n",
    "hard_voting_result[\"similar\"] = np.where(hard_voting_result[\"similar\"] > (len(result_list)/2), 1, 0)"
   ]
  },
  {
   "cell_type": "code",
   "execution_count": 6,
   "id": "f06eefb4-bf2f-4c59-9072-f4d1884a93d9",
   "metadata": {},
   "outputs": [],
   "source": [
    "hard_voting_result.to_csv(\"./submissions/for_ensemble/hard_voting_result.csv\", mode=\"w\", index=False)"
   ]
  },
  {
   "cell_type": "code",
   "execution_count": null,
   "id": "c62fb748-a8ed-42fc-af03-5e3b7b2fff9b",
   "metadata": {},
   "outputs": [],
   "source": []
  }
 ],
 "metadata": {
  "kernelspec": {
   "display_name": "Python 3 (ipykernel)",
   "language": "python",
   "name": "python3"
  },
  "language_info": {
   "codemirror_mode": {
    "name": "ipython",
    "version": 3
   },
   "file_extension": ".py",
   "mimetype": "text/x-python",
   "name": "python",
   "nbconvert_exporter": "python",
   "pygments_lexer": "ipython3",
   "version": "3.7.13"
  }
 },
 "nbformat": 4,
 "nbformat_minor": 5
}
